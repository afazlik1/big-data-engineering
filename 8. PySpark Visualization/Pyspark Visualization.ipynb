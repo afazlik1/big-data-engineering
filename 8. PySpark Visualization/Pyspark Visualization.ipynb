﻿{
  "metadata": {
    "name": "Spark Visualization",
    "kernelspec": {
      "language": "scala",
      "name": "spark2-scala"
    },
    "language_info": {
      "codemirror_mode": "text/x-scala",
      "file_extension": ".scala",
      "mimetype": "text/x-scala",
      "name": "scala",
      "pygments_lexer": "scala"
    }
  },
  "nbformat": 4,
  "nbformat_minor": 2,
  "cells": [
    {
      "cell_type": "raw",
      "metadata": {
        "format": "text/plain"
      },
      "source": "%pyspark\r\nfrom pyspark.sql import SQLContext\r\nfrom pyspark.sql.functions import isnan, when, count, col, translate\r\nfrom pyspark.sql.types import IntegerType\r\nfrom pyspark.sql.types import FloatType\r\nfrom pyspark.sql import functions as F\r\n\r\nsqlContext \u003d SQLContext(sc)"
    },
    {
      "cell_type": "raw",
      "metadata": {
        "format": "text/plain"
      },
      "source": "%pyspark\r\ndf_spark \u003d sqlContext.read.csv(\"file:///downloads/googleplaystore.csv\", header\u003dTrue, inferSchema \u003d True)\r\ndf_spark.count()"
    },
    {
      "cell_type": "raw",
      "metadata": {
        "format": "text/plain"
      },
      "source": "%pyspark\ndf_spark.printSchema()"
    },
    {
      "cell_type": "raw",
      "metadata": {
        "format": "text/plain"
      },
      "source": "%pyspark\n\ndf_spark.show(5)"
    },
    {
      "cell_type": "raw",
      "metadata": {
        "format": "text/plain"
      },
      "source": "%pyspark\n\ndf_spark.select(\"App\", \"Category\", \"Rating\").show(5)"
    },
    {
      "cell_type": "raw",
      "metadata": {
        "format": "text/plain"
      },
      "source": "%pyspark\r\n\r\n#Find null values\r\ndf_spark.select([count(when(col(c).isNull(), c)).alias(c) for c in df_spark.columns]).show()"
    },
    {
      "cell_type": "raw",
      "metadata": {
        "format": "text/plain"
      },
      "source": "%pyspark\n\ndf_spark \u003d df_spark.dropna(how\u003d\u0027any\u0027)"
    },
    {
      "cell_type": "raw",
      "metadata": {
        "format": "text/plain"
      },
      "source": "%pyspark\n\ndf_spark \u003d df_spark.withColumn(\u0027Size\u0027, translate(\u0027Size\u0027, \u0027Mk\u0027, \u0027\u0027))\ndf_spark \u003d df_spark.withColumn(\u0027Installs\u0027, translate(\u0027Installs\u0027, \u0027+,\u0027, \u0027\u0027))\ndf_spark \u003d df_spark.withColumn(\u0027Price\u0027, translate(\u0027Price\u0027, \u0027$\u0027, \u0027\u0027))\n\ndf_spark.show(5)"
    },
    {
      "cell_type": "raw",
      "metadata": {
        "format": "text/plain"
      },
      "source": "%pyspark\n\ndf_spark \u003d df_spark.where((col(\"Size\") !\u003d \"Varies with device\" ))"
    },
    {
      "cell_type": "raw",
      "metadata": {
        "format": "text/plain"
      },
      "source": "%pyspark\n\ndf_spark \u003d df_spark.withColumn(\"Installs\", df_spark[\"Installs\"].cast(IntegerType()))\ndf_spark \u003d df_spark.withColumn(\"Rating\", df_spark[\"Rating\"].cast(FloatType()))\ndf_spark \u003d df_spark.withColumn(\"Size\", df_spark[\"Size\"].cast(FloatType()))\ndf_spark \u003d df_spark.withColumn(\"Price\", df_spark[\"Price\"].cast(FloatType()))\n\ndf_spark.printSchema()"
    },
    {
      "cell_type": "raw",
      "metadata": {
        "format": "text/plain"
      },
      "source": "%pyspark\n\ndf_spark \u003d df_spark.withColumnRenamed(\u0027Size\u0027, \u0027Size(M)\u0027)\ndf_spark \u003d df_spark.withColumnRenamed(\u0027Installs\u0027, \u0027Installs(+)\u0027)\ndf_spark \u003d df_spark.withColumnRenamed(\u0027Price\u0027, \u0027Price($)\u0027)\ndf_spark.show(5)"
    },
    {
      "cell_type": "raw",
      "metadata": {
        "format": "text/plain"
      },
      "source": "%pyspark\n\ndf_spark \u003d df_spark.drop(\"Reviews\", \"Genres\", \"Current Ver\")\ndf_spark.show(5)"
    },
    {
      "cell_type": "raw",
      "metadata": {
        "format": "text/plain"
      },
      "source": "%pyspark\n\n#5.1 Query by single condition\ndf_spark.filter(df_spark[\"Content Rating\"] \u003d\u003d \"Teen\").show(10)\n"
    },
    {
      "cell_type": "raw",
      "metadata": {
        "format": "text/plain"
      },
      "source": "%pyspark\n\ndf_spark.filter(df_spark[\"Price($)\"].between(1, 3)).show(10)"
    },
    {
      "cell_type": "raw",
      "metadata": {
        "format": "text/plain"
      },
      "source": "%pyspark\n\n#5.3.1 startswith\ndf_spark.filter(df_spark[\"Android Ver\"].startswith(\"4\")).show(10)\n\n#5.3.2 endswith\ndf_spark.filter(df_spark[\"Last Updated\"].endswith(\"2018\")).show(10)\n\n#5.3.3 contains\ndf_spark.filter(df_spark[\"App\"].contains(\"photo\")).show(10)\n"
    },
    {
      "cell_type": "raw",
      "metadata": {
        "format": "text/plain"
      },
      "source": "%pyspark\n\ndf_spark.filter((col(\"Last Updated\").endswith(\"2018\")) \u0026 (col(\"Category\") \u003d\u003d \"GAME\") \u0026 col(\"Android Ver\").startswith(\"5\")).show(10)"
    },
    {
      "cell_type": "raw",
      "metadata": {
        "format": "text/plain"
      },
      "source": "%pyspark\n\ndf_spark.describe().show()"
    },
    {
      "cell_type": "code",
      "execution_count": 17,
      "metadata": {
        "autoscroll": "auto"
      },
      "outputs": [],
      "source": "%md"
    },
    {
      "cell_type": "raw",
      "metadata": {
        "format": "text/plain"
      },
      "source": "%pyspark\n\ndf_cat_sum \u003d df_spark.groupby(\"Category\").agg({\u0027Installs(+)\u0027: \"sum\"})\nz.show(df_cat_sum)"
    },
    {
      "cell_type": "raw",
      "metadata": {
        "format": "text/plain"
      },
      "source": "%pyspark\n\ndf_size_sum \u003d df_spark.groupby(\"Size(M)\").agg({\u0027Installs(+)\u0027: \"sum\"})\nz.show(df_size_sum)"
    },
    {
      "cell_type": "raw",
      "metadata": {
        "format": "text/plain"
      },
      "source": "%pyspark\n\ndf_android_count \u003d df_spark.groupby(\"Android Ver\").count().sort(col(\"count\").desc())\nz.show(df_android_count)"
    },
    {
      "cell_type": "raw",
      "metadata": {
        "format": "text/plain"
      },
      "source": "%pyspark\n\ndf_app_paid \u003d df_spark.filter(df_spark[\"Type\"] \u003d\u003d \"Paid\")\nz.show(df_app_paid)"
    },
    {
      "cell_type": "raw",
      "metadata": {
        "format": "text/plain"
      },
      "source": "%pyspark\n\ndf_app_paid \u003d df_app_paid.filter((col(\"Category\") \u003d\u003d \"GAME\") \u0026 (col(\"Rating\") \u003c\u003d 5)).sort(col(\"Rating\").desc())\nz.show(df_app_paid)"
    },
    {
      "cell_type": "raw",
      "metadata": {
        "format": "text/plain"
      },
      "source": "%pyspark\n"
    }
  ]
}