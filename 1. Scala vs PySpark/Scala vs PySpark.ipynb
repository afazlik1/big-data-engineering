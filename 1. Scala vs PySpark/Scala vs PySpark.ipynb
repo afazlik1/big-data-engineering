﻿{
  "metadata": {
    "name": "P1 - Scala vs PySpark \u0026 Docker Installation - Python \u0026 R Viz",
    "kernelspec": {
      "language": "scala",
      "name": "spark2-scala"
    },
    "language_info": {
      "codemirror_mode": "text/x-scala",
      "file_extension": ".scala",
      "mimetype": "text/x-scala",
      "name": "scala",
      "pygments_lexer": "scala"
    }
  },
  "nbformat": 4,
  "nbformat_minor": 2,
  "cells": [
    {
      "cell_type": "markdown",
      "metadata": {},
      "source": "Multi-purpose Notebook\n\nThe Notebook is the place for all your needs\n\n    Data Ingestion\n    Data Discovery\n    Data Analytics\n    Data Visualization \u0026 Collaboration\n\n\n"
    },
    {
      "cell_type": "code",
      "execution_count": 1,
      "metadata": {
        "autoscroll": "auto"
      },
      "outputs": [],
      "source": "%spark\nval distFile \u003d sc.textFile(\"file:///downloads/nycflights_sample/\")\ndistFile.count()\ndistFile.take(10).foreach(println)"
    },
    {
      "cell_type": "raw",
      "metadata": {
        "format": "text/plain"
      },
      "source": "%pyspark\nlines \u003d sc.textFile(\"file:///downloads/nycflights_sample/\")\nprint(lines.count())\nlines.take(10)"
    },
    {
      "cell_type": "code",
      "execution_count": 3,
      "metadata": {
        "autoscroll": "auto"
      },
      "outputs": [],
      "source": "%spark\n\nval flightDF \u003d spark.read.format(\"csv\")\n  .option(\"sep\", \";\")\n  .option(\"inferSchema\", \"true\")\n  .option(\"header\", \"true\")\n  .load(s\"file:///downloads/nycflights_sample/airOT198803.csv\")"
    },
    {
      "cell_type": "raw",
      "metadata": {
        "format": "text/plain"
      },
      "source": "%pyspark\n\ndf \u003d spark.read.load(\"file:///downloads/nycflights_sample/airOT198810.csv\", format\u003d\"csv\", sep\u003d\";\", inferSchema\u003d\"true\", header\u003d\"true\")"
    },
    {
      "cell_type": "code",
      "execution_count": 5,
      "metadata": {},
      "outputs": [],
      "source": "%%pyspark\nfrom pylab import figure, show, rand\nfrom matplotlib.patches import Ellipse\nimport matplotlib.pyplot as plt\n# helper function to display in Zeppelin\n\nimport StringIO\ndef show(p):\n  img \u003d StringIO.StringIO()\n  p.savefig(img, format\u003d\u0027svg\u0027)\n  img.seek(0)\n  print \"%html \u003cdiv style\u003d\u0027width:600px\u0027\u003e\" + img.buf + \"\u003c/div\u003e\"\n"
    },
    {
      "cell_type": "raw",
      "metadata": {
        "format": "text/plain"
      },
      "source": "%pyspark\n\nNUM \u003d 250\nplt.clf()\nells \u003d [Ellipse(xy\u003drand(2)*10, width\u003drand(), height\u003drand(), angle\u003drand()*360)\n        for i in range(NUM)]\n\nfig \u003d figure()\nax \u003d fig.add_subplot(111, aspect\u003d\u0027equal\u0027)\nfor e in ells:\n    ax.add_artist(e)\n    e.set_clip_box(ax.bbox)\n    e.set_alpha(rand())\n    e.set_facecolor(rand(3))\n\nax.set_xlim(0, 10)\nax.set_ylim(0, 10)\n# show(plt)"
    },
    {
      "cell_type": "raw",
      "metadata": {
        "format": "text/plain"
      },
      "source": "%r\n\n# rnorm(n, mean, sd)\n\nhist(rnorm(1000,10,20),xlab \u003d \"SampleValue\",col \u003d \"lightblue\", breaks \u003d 20)\n"
    },
    {
      "cell_type": "raw",
      "metadata": {
        "format": "text/plain"
      },
      "source": "%r\n"
    }
  ]
}